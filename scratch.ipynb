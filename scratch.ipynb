{
 "cells": [
  {
   "cell_type": "code",
   "execution_count": null,
   "id": "fd8a03d1",
   "metadata": {
    "language_info": {
     "name": "polyglot-notebook"
    },
    "polyglot_notebook": {
     "kernelName": "fsharp"
    }
   },
   "outputs": [],
   "source": [
    "// Choosing the inferior `.ipynb` over `.dib` to allow sharing the file with non-VSC users.\n",
    "\n",
    "// Using the `#I` to add the root folder to the **include** path, so we can use relative paths from there - DRY applies to strings too.\n",
    "#I \"/home/ofk/FunPark\"\n",
    "\n",
    "// **Referencing** the `.dll` files, i.e., `#r` directive, requires building the projects first - an overkill for a scratch notebook, seeing as these files are constantly changing\n",
    "// Also note files referenced are the \"Debug\" builds - appropriate for scratch file and debugging, but worth keeping in mind\n",
    "// #r \"Shared/bin/Debug/net9.0/Shared.dll\"\n",
    "// #r \"src/server/FunPark/bin/Debug/net9.0/FunPark.dll\"\n",
    "\n",
    "// Instead, we can use `#load` to pull in the source files directly\n",
    "// This is a bit more fragile, as it requires the files to be in the right order **without the compiler helping us out** - simply load the files in the order they're on the `.fsproj` file.\n",
    "// Somewhat more cumbersome, ultimately it's more convenient and much faster than building the project(s) on every change.\n",
    "#load \"Shared/Shared.fs\"\n",
    "#load \"src/server/FunPark/Rides.fs\"\n",
    "#load \"src/server/FunPark/FreePasses.fs\"\n",
    "#load \"src/server/FunPark/Patrons.fs\"\n",
    "\n",
    "open Shared\n",
    "open FunPark\n",
    "open FunPark.Rides\n",
    "open FSharp.Data.UnitSystems.SI.UnitSymbols"
   ]
  },
  {
   "cell_type": "code",
   "execution_count": null,
   "metadata": {
    "language_info": {
     "name": "polyglot-notebook"
    },
    "polyglot_notebook": {
     "kernelName": "fsharp"
    }
   },
   "outputs": [],
   "source": [
    "let rideA = Ride.create { Name = ContentfulString.Create \"Ride A\"; MinHeight = Natural.create 120<cm>; MinAge = Natural.create 10<yr>; WaitTime = Natural.create 15<s>; Online = Some Online; Tags = []}\n",
    "let rideB = Ride.create { Name = ContentfulString.Create \"Ride B\"; MinHeight = Natural.create 140<cm>; MinAge = Natural.create 12<yr>; WaitTime = Natural.create 60<s>; Online = None; Tags = []}\n",
    "let rideC = Ride.update rideA {Id = None; Name = None; MinAge = Natural.create 6<yr>; MinHeight = Natural.create 90<cm>; WaitTime = None; Online = None; Tags = Some []}"
   ]
  },
  {
   "cell_type": "code",
   "execution_count": null,
   "metadata": {
    "language_info": {
     "name": "polyglot-notebook"
    },
    "polyglot_notebook": {
     "kernelName": "fsharp"
    }
   },
   "outputs": [],
   "source": [
    "rideA = rideB"
   ]
  },
  {
   "cell_type": "code",
   "execution_count": null,
   "metadata": {
    "language_info": {
     "name": "polyglot-notebook"
    },
    "polyglot_notebook": {
     "kernelName": "fsharp"
    }
   },
   "outputs": [],
   "source": [
    "rideA = rideC"
   ]
  },
  {
   "cell_type": "code",
   "execution_count": null,
   "metadata": {
    "language_info": {
     "name": "polyglot-notebook"
    },
    "polyglot_notebook": {
     "kernelName": "fsharp"
    }
   },
   "outputs": [],
   "source": [
    "[rideA; rideB; rideC]\n",
    "|> Set.ofList\n",
    "|> Set.map (fun r ->\n",
    "    if r = rideA\n",
    "        then Ride.update r {Id = None; Name = None; MinAge = Natural.create 6<yr>; MinHeight = Natural.create 90<cm>; WaitTime = None; Online = None; Tags = Some []}\n",
    "        else r)"
   ]
  }
 ],
 "metadata": {
  "kernelspec": {
   "display_name": ".NET (C#)",
   "language": "C#",
   "name": ".net-csharp"
  },
  "language_info": {
   "name": "polyglot-notebook"
  },
  "polyglot_notebook": {
   "kernelInfo": {
    "defaultKernelName": "csharp",
    "items": [
     {
      "aliases": [],
      "name": "csharp"
     },
     {
      "aliases": [],
      "languageName": "fsharp",
      "name": "fsharp"
     }
    ]
   }
  }
 },
 "nbformat": 4,
 "nbformat_minor": 5
}
